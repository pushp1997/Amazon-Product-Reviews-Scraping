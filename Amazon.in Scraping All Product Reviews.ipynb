{
 "cells": [
  {
   "cell_type": "markdown",
   "metadata": {},
   "source": [
    "# Amazon Product Review Scraping"
   ]
  },
  {
   "cell_type": "markdown",
   "metadata": {},
   "source": [
    "This project aims to scrape reviews of any product link provided using Python."
   ]
  },
  {
   "cell_type": "code",
   "execution_count": 1,
   "metadata": {},
   "outputs": [],
   "source": [
    "%%capture requirements\n",
    "import sys\n",
    "import os\n",
    "!{sys.executable} -m pip install bs4\n",
    "!{sys.executable} -m pip install lxml\n",
    "!{sys.executable} -m pip install pandas\n",
    "import time\n",
    "import requests\n",
    "import lxml\n",
    "from bs4 import BeautifulSoup\n",
    "import pandas as pd"
   ]
  },
  {
   "cell_type": "code",
   "execution_count": 2,
   "metadata": {},
   "outputs": [
    {
     "name": "stdout",
     "output_type": "stream",
     "text": [
      "Enter the product link: https://www.amazon.de/dp/B07SJR6HL3?ref=dacx_dp_1486540050202_3693756170602&pd_rd_plhdr=t&aaxitk=oKhWNvWHnPkBHCjSwhrxXw\n"
     ]
    }
   ],
   "source": [
    "product_link = input('Enter the product link: ')"
   ]
  },
  {
   "cell_type": "code",
   "execution_count": 3,
   "metadata": {},
   "outputs": [],
   "source": [
    "headers = {'User-Agent': 'Mozilla/5.0 (X11; U; Linux i686; en-US) AppleWebKit/534.3 (KHTML, like Gecko) Chrome/6.0.472.64 Safari/534.3'}\n",
    "product_page = requests.get(product_link, headers=headers)\n",
    "#print(product_page)"
   ]
  },
  {
   "cell_type": "code",
   "execution_count": 4,
   "metadata": {},
   "outputs": [],
   "source": [
    "product_page_soup = BeautifulSoup(product_page.text, 'lxml')\n",
    "#print(product_page_soup)"
   ]
  },
  {
   "cell_type": "code",
   "execution_count": 5,
   "metadata": {},
   "outputs": [
    {
     "name": "stdout",
     "output_type": "stream",
     "text": [
      "https://www.amazon.de/Soundcore-Ger%C3%A4uschisolierung-kristallklares-Akkulaufzeit-Wasserschutzklasse-Schwarz/product-reviews/B07SJR6HL3/ref=cm_cr_dp_d_show_all_btm?ie=UTF8&reviewerType=all_reviews\n"
     ]
    }
   ],
   "source": [
    "see_all_reviews = product_page_soup.find_all(\"a\", {\"data-hook\" : \"see-all-reviews-link-foot\"})[0]\n",
    "all_reviews_url =  \"/\".join(product_link.split(\"/\", 3)[:3]) + see_all_reviews['href']\n",
    "print(all_reviews_url)"
   ]
  },
  {
   "cell_type": "code",
   "execution_count": 6,
   "metadata": {},
   "outputs": [],
   "source": [
    "all_reviews_page = requests.get(all_reviews_url, headers=headers)\n",
    "all_reviews_page_soup = BeautifulSoup(all_reviews_page.text, 'lxml')\n",
    "\n",
    "#do\n",
    "i=1\n",
    "# review_id = [i['id'] for i in all_reviews_page_soup.find_all(class_='a-section review aok-relative')[2:]]\n",
    "names = list([i.text for i in all_reviews_page_soup.find_all(class_='a-profile-name')[2:]])\n",
    "ratings = list([i.find(class_='a-icon-alt').text[:3] for i in all_reviews_page_soup.find_all(class_='a-section celwidget')])\n",
    "title = list([i.span.text for i in all_reviews_page_soup.find_all(class_='review-title')[2:]])\n",
    "date = list([i.text for i in all_reviews_page_soup.find_all(class_='review-date')[2:]])\n",
    "text = list([i.span.text for i in all_reviews_page_soup.find_all(class_='review-text-content')])\n",
    "#while\n",
    "# print(type(all_reviews_page_soup.find(class_='a-pagination').find_all('li')[1].a))\n",
    "try:\n",
    "    while all_reviews_page_soup.find(class_='a-pagination'):\n",
    "        if all_reviews_page_soup.find(class_='a-pagination').find_all('li')[1].a:\n",
    "            #print(i)\n",
    "            i+=1\n",
    "            next_url = 'https://www.amazon.in' + all_reviews_page_soup.find(class_='a-pagination').find_all('li')[1].a['href']\n",
    "            all_reviews_page = requests.get(next_url)\n",
    "            all_reviews_page_soup = BeautifulSoup(all_reviews_page.text, 'html.parser')\n",
    "    #         review_id.append([i['id'] for i in all_reviews_page_soup.find_all(class_='a-section review aok-relative')[2:]])\n",
    "            temp_names = [i.text for i in all_reviews_page_soup.find_all(class_='a-profile-name')[2:]]\n",
    "            if temp_names:\n",
    "                names.append(temp_names)\n",
    "            else:\n",
    "                names.append('')\n",
    "            temp_ratings = [i.find(class_='a-icon-alt').text[:3] for i in all_reviews_page_soup.find_all(class_='a-section celwidget')]\n",
    "            if temp_ratings:\n",
    "                ratings.append(temp_ratings)\n",
    "            else:\n",
    "                ratings.append('')\n",
    "            temp_title = [i.span.text for i in all_reviews_page_soup.find_all(class_='review-title')[2:]]\n",
    "            if temp_title:\n",
    "                title.append(temp_title)\n",
    "            else:\n",
    "                title.append('')\n",
    "            temp_date = [i.text for i in all_reviews_page_soup.find_all(class_='review-date')[2:]]\n",
    "            if temp_date:\n",
    "                date.append(temp_date)\n",
    "            else:\n",
    "                date.append('')\n",
    "            temp_text = [i.span.text for i in all_reviews_page_soup.find_all(class_='review-text-content')]\n",
    "            if temp_text:\n",
    "                text.append(temp_text)\n",
    "            else:\n",
    "                text.append('')\n",
    "        else:\n",
    "            break\n",
    "except Exception as e:\n",
    "    print(e, type(all_reviews_page_soup.find(class_='a-pagination')))\n",
    "#print('Name'+str(len(names))+'Ratings'+str(len(ratings))+'Title'+str(len(title))+'Date'+str(len(date))+'Text'+str(len(text)))\n",
    "reviews_dict = {'Name':names, 'Ratings':ratings, 'Title':title, 'Date':date, 'Text':text}\n",
    "#print(reviews_dict)"
   ]
  },
  {
   "cell_type": "code",
   "execution_count": 7,
   "metadata": {},
   "outputs": [],
   "source": [
    "reviews_df = pd.DataFrame.from_dict(reviews_dict)\n",
    "#print(reviews_df)"
   ]
  },
  {
   "cell_type": "markdown",
   "metadata": {},
   "source": [
    "Saving the the Reviews dataframe to a CSV file."
   ]
  },
  {
   "cell_type": "code",
   "execution_count": 8,
   "metadata": {},
   "outputs": [],
   "source": [
    "timestr = time.strftime(\"%Y%m%d-%H%M%S\")\n",
    "csvoutput_file = f'.{os.path.sep}review_{timestr}.csv'\n",
    "#print(f'saving to {csvoutput_file}')\n",
    "reviews_df.to_csv(csvoutput_file)"
   ]
  }
 ],
 "metadata": {
  "kernelspec": {
   "display_name": "Python 3",
   "language": "python",
   "name": "python3"
  },
  "language_info": {
   "codemirror_mode": {
    "name": "ipython",
    "version": 3
   },
   "file_extension": ".py",
   "mimetype": "text/x-python",
   "name": "python",
   "nbconvert_exporter": "python",
   "pygments_lexer": "ipython3",
   "version": "3.8.5"
  }
 },
 "nbformat": 4,
 "nbformat_minor": 2
}
